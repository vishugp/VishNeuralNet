{
 "cells": [
  {
   "cell_type": "code",
   "execution_count": 10,
   "metadata": {},
   "outputs": [],
   "source": [
    "### REQUIRED LIBRARIES\n",
    "import numpy as np\n"
   ]
  },
  {
   "cell_type": "code",
   "execution_count": 11,
   "metadata": {},
   "outputs": [
    {
     "data": {
      "text/plain": [
       "array([4.8  , 1.21 , 2.385])"
      ]
     },
     "execution_count": 11,
     "metadata": {},
     "output_type": "execute_result"
    }
   ],
   "source": [
    "### SETTING UP THE NEURON LAYER\n",
    "\n",
    "# 4 Inputs to 3 Neurons\n",
    "\n",
    "\n",
    "# 4x1 Input layer\n",
    "inputs = [1.0, 2.0, 3.0, 2.5]\n",
    "\n",
    "\n",
    "# Each Neuron has a weight for each of the 4 Inputs\n",
    "# w 3x4\n",
    "weights = [\n",
    "    [0.2, 0.8, -0.5, 1],\n",
    "    [0.5, -0.91, 0.26, -0.5],\n",
    "    [-0.26, -0.27, 0.17, 0.87]\n",
    "]\n",
    "\n",
    "\n",
    "# Each Neuron has a Bias to add\n",
    "# b 3x1\n",
    "bias = [2.0, 3.0, 0.5]\n",
    "\n",
    "\n",
    "# Output = w.X + b\n",
    "# (3x4).(4x1) + (3x1) => Dimensionally Matches\n",
    "output = np.dot(weights, inputs) + bias\n",
    "output"
   ]
  },
  {
   "cell_type": "code",
   "execution_count": null,
   "metadata": {},
   "outputs": [],
   "source": []
  }
 ],
 "metadata": {
  "kernelspec": {
   "display_name": "Python 3.9.13 ('base')",
   "language": "python",
   "name": "python3"
  },
  "language_info": {
   "codemirror_mode": {
    "name": "ipython",
    "version": 3
   },
   "file_extension": ".py",
   "mimetype": "text/x-python",
   "name": "python",
   "nbconvert_exporter": "python",
   "pygments_lexer": "ipython3",
   "version": "3.9.13"
  },
  "orig_nbformat": 4,
  "vscode": {
   "interpreter": {
    "hash": "5ddc26d5639259490efaef57cadad5e39c604e26c3eb2b4718e08a3687ad4e35"
   }
  }
 },
 "nbformat": 4,
 "nbformat_minor": 2
}
